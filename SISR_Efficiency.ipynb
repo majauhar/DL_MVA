{
  "nbformat": 4,
  "nbformat_minor": 0,
  "metadata": {
    "colab": {
      "provenance": [],
      "authorship_tag": "ABX9TyPk7Oc5AYORc0ZQ0t8jnmhT",
      "include_colab_link": true
    },
    "kernelspec": {
      "name": "python3",
      "display_name": "Python 3"
    },
    "language_info": {
      "name": "python"
    }
  },
  "cells": [
    {
      "cell_type": "markdown",
      "metadata": {
        "id": "view-in-github",
        "colab_type": "text"
      },
      "source": [
        "<a href=\"https://colab.research.google.com/github/majauhar/DL_MVA/blob/main/SISR_Efficiency.ipynb\" target=\"_parent\"><img src=\"https://colab.research.google.com/assets/colab-badge.svg\" alt=\"Open In Colab\"/></a>"
      ]
    },
    {
      "cell_type": "code",
      "source": [
        "# Alternative Method: Facebook Fvcore\n",
        "# !git clone https://github.com/majauhar/fvcore.git\n",
        "# !cd fvcore\n",
        "# !pip install fvcore -q"
      ],
      "metadata": {
        "id": "5KLUtn6E2H0u"
      },
      "execution_count": 1,
      "outputs": []
    },
    {
      "cell_type": "code",
      "source": [
        "# from fvcore.nn import FlopCountAnalysis"
      ],
      "metadata": {
        "id": "toLHXTix6PBp"
      },
      "execution_count": 2,
      "outputs": []
    },
    {
      "cell_type": "code",
      "source": [
        "!git clone https://github.com/majauhar/DL_MVA.git"
      ],
      "metadata": {
        "colab": {
          "base_uri": "https://localhost:8080/"
        },
        "id": "aH7JWr5_h4lJ",
        "outputId": "485c5538-8de0-4237-b2cb-7afd16042175"
      },
      "execution_count": 1,
      "outputs": [
        {
          "output_type": "stream",
          "name": "stdout",
          "text": [
            "Cloning into 'DL_MVA'...\n",
            "remote: Enumerating objects: 73, done.\u001b[K\n",
            "remote: Counting objects: 100% (73/73), done.\u001b[K\n",
            "remote: Compressing objects: 100% (47/47), done.\u001b[K\n",
            "remote: Total 73 (delta 24), reused 66 (delta 19), pack-reused 0\u001b[K\n",
            "Receiving objects: 100% (73/73), 35.54 KiB | 3.55 MiB/s, done.\n",
            "Resolving deltas: 100% (24/24), done.\n"
          ]
        }
      ]
    },
    {
      "cell_type": "code",
      "source": [
        "cd DL_MVA/"
      ],
      "metadata": {
        "colab": {
          "base_uri": "https://localhost:8080/"
        },
        "id": "XS1LfMXrlodL",
        "outputId": "87586739-d7c7-4228-db30-bb4ba2fb1d7c"
      },
      "execution_count": 2,
      "outputs": [
        {
          "output_type": "stream",
          "name": "stdout",
          "text": [
            "/content/DL_MVA\n"
          ]
        }
      ]
    },
    {
      "cell_type": "code",
      "source": [
        "# import fvcore"
      ],
      "metadata": {
        "id": "FhiTy4tZ2Sfn"
      },
      "execution_count": 5,
      "outputs": []
    },
    {
      "cell_type": "code",
      "source": [
        "# dir(fvcore)"
      ],
      "metadata": {
        "id": "phxfEjmA5cst"
      },
      "execution_count": 6,
      "outputs": []
    },
    {
      "cell_type": "code",
      "source": [
        "# from fvcore import packages"
      ],
      "metadata": {
        "id": "Wzpsm5B83QT6"
      },
      "execution_count": 7,
      "outputs": []
    },
    {
      "cell_type": "code",
      "source": [
        "# !git clone https://github.com/hellloxiaotian/LESRCNN.git"
      ],
      "metadata": {
        "id": "Kn9HGvQNlYmi"
      },
      "execution_count": 8,
      "outputs": []
    },
    {
      "cell_type": "code",
      "source": [
        "ls"
      ],
      "metadata": {
        "colab": {
          "base_uri": "https://localhost:8080/"
        },
        "id": "AjbL5kE7ldK8",
        "outputId": "046b93c7-60bb-4708-a6d8-e880910df30f"
      },
      "execution_count": 3,
      "outputs": [
        {
          "output_type": "stream",
          "name": "stdout",
          "text": [
            "\u001b[0m\u001b[01;34mlesrcnn\u001b[0m/  \u001b[01;34momni\u001b[0m/  \u001b[01;34mutils\u001b[0m/\n"
          ]
        }
      ]
    },
    {
      "cell_type": "code",
      "source": [
        "from utils.efficiency_results import get_model_flops, get_model_activation"
      ],
      "metadata": {
        "id": "HsDCBypEkk5u"
      },
      "execution_count": 4,
      "outputs": []
    },
    {
      "cell_type": "code",
      "source": [
        "import os\n",
        "import json\n",
        "import time\n",
        "import importlib\n",
        "import argparse\n",
        "import numpy as np\n",
        "from collections import OrderedDict\n",
        "import torch\n",
        "import torch.nn as nn\n",
        "from torch.autograd import Variable\n",
        "from PIL import Image\n",
        "import cv2"
      ],
      "metadata": {
        "id": "DPdBjmZjkvbb"
      },
      "execution_count": 5,
      "outputs": []
    },
    {
      "cell_type": "code",
      "source": [
        "from lesrcnn.model import Net"
      ],
      "metadata": {
        "id": "Jrg2IExrl0ut"
      },
      "execution_count": 7,
      "outputs": []
    },
    {
      "cell_type": "code",
      "source": [
        "model = Net()"
      ],
      "metadata": {
        "id": "SHYZ0yxsn5g1"
      },
      "execution_count": 9,
      "outputs": []
    },
    {
      "cell_type": "code",
      "source": [
        "input_dim = (3, 256, 256)  # set the input dimension\n",
        "activations, num_conv = get_model_activation(model, input_dim)\n",
        "activations = activations / 10 ** 6\n",
        "print(\"{:>16s} : {:<.4f} [M]\".format(\"#Activations\", activations))\n",
        "print(\"{:>16s} : {:<d}\".format(\"#Conv2d\", num_conv))"
      ],
      "metadata": {
        "colab": {
          "base_uri": "https://localhost:8080/"
        },
        "id": "DQ-DBLqnn_Xm",
        "outputId": "79146607-ec29-46af-f24f-ce090cfac0c3"
      },
      "execution_count": 10,
      "outputs": [
        {
          "output_type": "stream",
          "name": "stdout",
          "text": [
            "    #Activations : 173.7359 [M]\n",
            "         #Conv2d : 26\n"
          ]
        }
      ]
    },
    {
      "cell_type": "code",
      "source": [
        "flops = get_model_flops(model, input_dim, False)\n",
        "flops = flops / 10 ** 9\n",
        "print(\"{:>16s} : {:<.4f} [G]\".format(\"FLOPs\", flops))"
      ],
      "metadata": {
        "colab": {
          "base_uri": "https://localhost:8080/"
        },
        "id": "VyVdC90koGT9",
        "outputId": "12417836-689b-4579-88aa-cadd67fecd3e"
      },
      "execution_count": 11,
      "outputs": [
        {
          "output_type": "stream",
          "name": "stdout",
          "text": [
            "           FLOPs : 80.1813 [G]\n"
          ]
        }
      ]
    },
    {
      "cell_type": "code",
      "source": [
        "num_parameters = sum(map(lambda x: x.numel(), model.parameters()))\n",
        "num_parameters = num_parameters / 10 ** 6\n",
        "print(\"{:>16s} : {:<.4f} [M]\".format(\"#Params\", num_parameters))"
      ],
      "metadata": {
        "colab": {
          "base_uri": "https://localhost:8080/"
        },
        "id": "6OFYMwqSsqvp",
        "outputId": "23fe3a80-b6ad-4d1b-a830-9a5c0a46ecaf"
      },
      "execution_count": 16,
      "outputs": [
        {
          "output_type": "stream",
          "name": "stdout",
          "text": [
            "         #Params : 0.7740 [M]\n"
          ]
        }
      ]
    },
    {
      "cell_type": "code",
      "source": [
        "!pip install einops -q"
      ],
      "metadata": {
        "colab": {
          "base_uri": "https://localhost:8080/"
        },
        "id": "F-F9a-rUei4H",
        "outputId": "71d5bbaf-a9cd-458e-8d83-7af1e435a285"
      },
      "execution_count": 8,
      "outputs": [
        {
          "output_type": "stream",
          "name": "stdout",
          "text": [
            "Collecting einops\n",
            "  Downloading einops-0.7.0-py3-none-any.whl (44 kB)\n",
            "\u001b[?25l     \u001b[90m━━━━━━━━━━━━━━━━━━━━━━━━━━━━━━━━━━━━━━━━\u001b[0m \u001b[32m0.0/44.6 kB\u001b[0m \u001b[31m?\u001b[0m eta \u001b[36m-:--:--\u001b[0m\r\u001b[2K     \u001b[90m━━━━━━━━━━━━━━━━━━━━━━━━━━━━━━━━━━━━━━━━\u001b[0m \u001b[32m44.6/44.6 kB\u001b[0m \u001b[31m1.8 MB/s\u001b[0m eta \u001b[36m0:00:00\u001b[0m\n",
            "\u001b[?25hInstalling collected packages: einops\n",
            "Successfully installed einops-0.7.0\n"
          ]
        }
      ]
    },
    {
      "cell_type": "code",
      "source": [
        "from omni.model import OmniSR"
      ],
      "metadata": {
        "id": "Z-ll9RndaQ3n"
      },
      "execution_count": 6,
      "outputs": []
    },
    {
      "cell_type": "code",
      "source": [
        "model = OmniSR()"
      ],
      "metadata": {
        "colab": {
          "base_uri": "https://localhost:8080/"
        },
        "id": "i00vovaobXmG",
        "outputId": "28b6aece-0462-485d-d670-591e1ee8fbff"
      },
      "execution_count": 9,
      "outputs": [
        {
          "output_type": "stream",
          "name": "stdout",
          "text": [
            "window_size: 8\n",
            "with_pe True\n",
            "ffn_bias: 1\n",
            "window_size: 8\n",
            "with_pe True\n",
            "ffn_bias: 1\n",
            "window_size: 8\n",
            "with_pe True\n",
            "ffn_bias: 1\n",
            "window_size: 8\n",
            "with_pe True\n",
            "ffn_bias: 1\n",
            "window_size: 8\n",
            "with_pe True\n",
            "ffn_bias: 1\n"
          ]
        },
        {
          "output_type": "stream",
          "name": "stderr",
          "text": [
            "/usr/local/lib/python3.10/dist-packages/torch/functional.py:504: UserWarning: torch.meshgrid: in an upcoming release, it will be required to pass the indexing argument. (Triggered internally at ../aten/src/ATen/native/TensorShape.cpp:3526.)\n",
            "  return _VF.meshgrid(tensors, **kwargs)  # type: ignore[attr-defined]\n"
          ]
        }
      ]
    },
    {
      "cell_type": "code",
      "source": [
        "input_dim = (3, 256, 256)  # set the input dimension\n",
        "activations, num_conv = get_model_activation(model, input_dim)\n",
        "activations = activations / 10 ** 6\n",
        "print(\"{:>16s} : {:<.4f} [M]\".format(\"#Activations\", activations))\n",
        "print(\"{:>16s} : {:<d}\".format(\"#Conv2d\", num_conv))"
      ],
      "metadata": {
        "id": "m5cMCWwMes8h"
      },
      "execution_count": null,
      "outputs": []
    },
    {
      "cell_type": "code",
      "source": [
        "# # Alternative Method: Facebook Fvcore\n",
        "# !git clone https://github.com/majauhar/fvcore.git\n",
        "# # !cd fvcore\n",
        "# !pip install -e fvcore"
      ],
      "metadata": {
        "colab": {
          "base_uri": "https://localhost:8080/"
        },
        "id": "ugPCdvaTs8HQ",
        "outputId": "490650d5-e4cd-46b3-d2a5-8a0c5d642eaf"
      },
      "execution_count": 7,
      "outputs": [
        {
          "output_type": "stream",
          "name": "stdout",
          "text": [
            "Cloning into 'fvcore'...\n",
            "remote: Enumerating objects: 1689, done.\u001b[K\n",
            "remote: Counting objects: 100% (416/416), done.\u001b[K\n",
            "remote: Compressing objects: 100% (112/112), done.\u001b[K\n",
            "remote: Total 1689 (delta 317), reused 371 (delta 296), pack-reused 1273\u001b[K\n",
            "Receiving objects: 100% (1689/1689), 454.81 KiB | 2.43 MiB/s, done.\n",
            "Resolving deltas: 100% (1105/1105), done.\n",
            "Obtaining file:///content/fvcore\n",
            "  Preparing metadata (setup.py) ... \u001b[?25l\u001b[?25hdone\n",
            "Requirement already satisfied: numpy in /usr/local/lib/python3.10/dist-packages (from fvcore==0.1.6) (1.23.5)\n",
            "Requirement already satisfied: yacs>=0.1.6 in /usr/local/lib/python3.10/dist-packages (from fvcore==0.1.6) (0.1.8)\n",
            "Requirement already satisfied: pyyaml>=5.1 in /usr/local/lib/python3.10/dist-packages (from fvcore==0.1.6) (6.0.1)\n",
            "Requirement already satisfied: tqdm in /usr/local/lib/python3.10/dist-packages (from fvcore==0.1.6) (4.66.1)\n",
            "Requirement already satisfied: termcolor>=1.1 in /usr/local/lib/python3.10/dist-packages (from fvcore==0.1.6) (2.4.0)\n",
            "Requirement already satisfied: Pillow in /usr/local/lib/python3.10/dist-packages (from fvcore==0.1.6) (9.4.0)\n",
            "Requirement already satisfied: tabulate in /usr/local/lib/python3.10/dist-packages (from fvcore==0.1.6) (0.9.0)\n",
            "Requirement already satisfied: iopath>=0.1.7 in /usr/local/lib/python3.10/dist-packages (from fvcore==0.1.6) (0.1.10)\n",
            "Requirement already satisfied: typing-extensions in /usr/local/lib/python3.10/dist-packages (from iopath>=0.1.7->fvcore==0.1.6) (4.5.0)\n",
            "Requirement already satisfied: portalocker in /usr/local/lib/python3.10/dist-packages (from iopath>=0.1.7->fvcore==0.1.6) (2.8.2)\n",
            "Installing collected packages: fvcore\n",
            "  Running setup.py develop for fvcore\n",
            "Successfully installed fvcore-0.1.6\n"
          ]
        }
      ]
    },
    {
      "cell_type": "code",
      "source": [
        "# !rm -r fvcore"
      ],
      "metadata": {
        "id": "ENuB4quBy49O"
      },
      "execution_count": 2,
      "outputs": []
    },
    {
      "cell_type": "code",
      "source": [
        "# !pip uninstall fvcore -y"
      ],
      "metadata": {
        "id": "xV7IpGolvBQ5"
      },
      "execution_count": 13,
      "outputs": []
    },
    {
      "cell_type": "code",
      "source": [
        "# cd sample_data"
      ],
      "metadata": {
        "colab": {
          "base_uri": "https://localhost:8080/"
        },
        "id": "HLav65Yc0D1B",
        "outputId": "5acc55c4-2698-47ec-834d-e49ce06c9af8"
      },
      "execution_count": 10,
      "outputs": [
        {
          "output_type": "stream",
          "name": "stdout",
          "text": [
            "/content/sample_data\n"
          ]
        }
      ]
    },
    {
      "cell_type": "code",
      "source": [
        "# import fvcore"
      ],
      "metadata": {
        "id": "5z-BY1EozE7t"
      },
      "execution_count": 11,
      "outputs": []
    },
    {
      "cell_type": "code",
      "source": [
        "# from fvcore import nn"
      ],
      "metadata": {
        "colab": {
          "base_uri": "https://localhost:8080/",
          "height": 315
        },
        "id": "m33FayU4vEp6",
        "outputId": "d28a093b-179c-4b6a-cff0-d527ffa4381e"
      },
      "execution_count": 12,
      "outputs": [
        {
          "output_type": "error",
          "ename": "ImportError",
          "evalue": "cannot import name 'nn' from 'fvcore' (unknown location)",
          "traceback": [
            "\u001b[0;31m---------------------------------------------------------------------------\u001b[0m",
            "\u001b[0;31mImportError\u001b[0m                               Traceback (most recent call last)",
            "\u001b[0;32m<ipython-input-12-ea816acb0503>\u001b[0m in \u001b[0;36m<cell line: 1>\u001b[0;34m()\u001b[0m\n\u001b[0;32m----> 1\u001b[0;31m \u001b[0;32mfrom\u001b[0m \u001b[0mfvcore\u001b[0m \u001b[0;32mimport\u001b[0m \u001b[0mnn\u001b[0m\u001b[0;34m\u001b[0m\u001b[0;34m\u001b[0m\u001b[0m\n\u001b[0m",
            "\u001b[0;31mImportError\u001b[0m: cannot import name 'nn' from 'fvcore' (unknown location)",
            "",
            "\u001b[0;31m---------------------------------------------------------------------------\u001b[0;32m\nNOTE: If your import is failing due to a missing package, you can\nmanually install dependencies using either !pip or !apt.\n\nTo view examples of installing some common dependencies, click the\n\"Open Examples\" button below.\n\u001b[0;31m---------------------------------------------------------------------------\u001b[0m\n"
          ],
          "errorDetails": {
            "actions": [
              {
                "action": "open_url",
                "actionText": "Open Examples",
                "url": "/notebooks/snippets/importing_libraries.ipynb"
              }
            ]
          }
        }
      ]
    },
    {
      "cell_type": "code",
      "source": [],
      "metadata": {
        "id": "ScoRkLeo2G3u"
      },
      "execution_count": null,
      "outputs": []
    },
    {
      "cell_type": "code",
      "source": [
        "input = torch.randn(1, 3, 256, 256)"
      ],
      "metadata": {
        "id": "8ylbKmBuvI2S"
      },
      "execution_count": 17,
      "outputs": []
    },
    {
      "cell_type": "code",
      "source": [
        "flops = FlopCountAnalysis(model, input)"
      ],
      "metadata": {
        "id": "bJFv2sKhwanr"
      },
      "execution_count": 19,
      "outputs": []
    },
    {
      "cell_type": "code",
      "source": [
        "flops.total()"
      ],
      "metadata": {
        "colab": {
          "base_uri": "https://localhost:8080/"
        },
        "id": "wWdljCSQwbgS",
        "outputId": "9b10eb56-cc4d-4158-b3b7-32aa1157dc58"
      },
      "execution_count": 20,
      "outputs": [
        {
          "output_type": "stream",
          "name": "stderr",
          "text": [
            "WARNING:fvcore.nn.jit_analysis:Unsupported operator aten::add encountered 9 time(s)\n",
            "WARNING:fvcore.nn.jit_analysis:Unsupported operator aten::pixel_shuffle encountered 4 time(s)\n"
          ]
        },
        {
          "output_type": "execute_result",
          "data": {
            "text/plain": [
              "274665635840"
            ]
          },
          "metadata": {},
          "execution_count": 20
        }
      ]
    }
  ]
}