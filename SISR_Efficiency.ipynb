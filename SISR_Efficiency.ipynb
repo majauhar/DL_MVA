{
  "cells": [
    {
      "cell_type": "markdown",
      "metadata": {
        "colab_type": "text",
        "id": "view-in-github"
      },
      "source": [
        "<a href=\"https://colab.research.google.com/github/majauhar/DL_MVA/blob/main/SISR_Efficiency.ipynb\" target=\"_parent\"><img src=\"https://colab.research.google.com/assets/colab-badge.svg\" alt=\"Open In Colab\"/></a>"
      ]
    },
    {
      "cell_type": "code",
      "execution_count": 1,
      "metadata": {
        "id": "5KLUtn6E2H0u"
      },
      "outputs": [],
      "source": [
        "# Alternative Method: Facebook Fvcore\n",
        "# !git clone https://github.com/majauhar/fvcore.git\n",
        "# !cd fvcore\n",
        "# !pip install fvcore -q"
      ]
    },
    {
      "cell_type": "code",
      "execution_count": 1,
      "metadata": {
        "id": "toLHXTix6PBp"
      },
      "outputs": [],
      "source": [
        "from fvcore.nn import FlopCountAnalysis"
      ]
    },
    {
      "cell_type": "code",
      "execution_count": 2,
      "metadata": {
        "colab": {
          "base_uri": "https://localhost:8080/"
        },
        "id": "aH7JWr5_h4lJ",
        "outputId": "485c5538-8de0-4237-b2cb-7afd16042175"
      },
      "outputs": [],
      "source": [
        "# !git clone https://github.com/majauhar/DL_MVA.git"
      ]
    },
    {
      "cell_type": "code",
      "execution_count": 3,
      "metadata": {
        "colab": {
          "base_uri": "https://localhost:8080/"
        },
        "id": "XS1LfMXrlodL",
        "outputId": "87586739-d7c7-4228-db30-bb4ba2fb1d7c"
      },
      "outputs": [],
      "source": [
        "# cd DL_MVA/"
      ]
    },
    {
      "cell_type": "code",
      "execution_count": 5,
      "metadata": {
        "id": "FhiTy4tZ2Sfn"
      },
      "outputs": [],
      "source": [
        "# import fvcore"
      ]
    },
    {
      "cell_type": "code",
      "execution_count": 6,
      "metadata": {
        "id": "phxfEjmA5cst"
      },
      "outputs": [],
      "source": [
        "# dir(fvcore)"
      ]
    },
    {
      "cell_type": "code",
      "execution_count": 7,
      "metadata": {
        "id": "Wzpsm5B83QT6"
      },
      "outputs": [],
      "source": [
        "# from fvcore import packages"
      ]
    },
    {
      "cell_type": "code",
      "execution_count": 8,
      "metadata": {
        "id": "Kn9HGvQNlYmi"
      },
      "outputs": [],
      "source": [
        "# !git clone https://github.com/hellloxiaotian/LESRCNN.git"
      ]
    },
    {
      "cell_type": "code",
      "execution_count": 3,
      "metadata": {
        "colab": {
          "base_uri": "https://localhost:8080/"
        },
        "id": "AjbL5kE7ldK8",
        "outputId": "046b93c7-60bb-4708-a6d8-e880910df30f"
      },
      "outputs": [
        {
          "name": "stdout",
          "output_type": "stream",
          "text": [
            "\u001b[0m\u001b[01;34mlesrcnn\u001b[0m/  \u001b[01;34momni\u001b[0m/  \u001b[01;34mutils\u001b[0m/\n"
          ]
        }
      ],
      "source": [
        "# ls"
      ]
    },
    {
      "cell_type": "code",
      "execution_count": 2,
      "metadata": {
        "id": "HsDCBypEkk5u"
      },
      "outputs": [],
      "source": [
        "from utils.efficiency_results import get_model_flops, get_model_activation"
      ]
    },
    {
      "cell_type": "code",
      "execution_count": 3,
      "metadata": {
        "id": "DPdBjmZjkvbb"
      },
      "outputs": [],
      "source": [
        "import os\n",
        "import json\n",
        "import time\n",
        "import importlib\n",
        "import argparse\n",
        "import numpy as np\n",
        "from collections import OrderedDict\n",
        "import torch\n",
        "import torch.nn as nn\n",
        "from torch.autograd import Variable\n",
        "from PIL import Image\n",
        "# import cv2"
      ]
    },
    {
      "cell_type": "code",
      "execution_count": 4,
      "metadata": {
        "id": "Jrg2IExrl0ut"
      },
      "outputs": [],
      "source": [
        "from lesrcnn.model import Net"
      ]
    },
    {
      "cell_type": "code",
      "execution_count": 5,
      "metadata": {
        "id": "SHYZ0yxsn5g1"
      },
      "outputs": [],
      "source": [
        "model = Net()"
      ]
    },
    {
      "cell_type": "code",
      "execution_count": 6,
      "metadata": {
        "colab": {
          "base_uri": "https://localhost:8080/"
        },
        "id": "DQ-DBLqnn_Xm",
        "outputId": "79146607-ec29-46af-f24f-ce090cfac0c3"
      },
      "outputs": [
        {
          "name": "stdout",
          "output_type": "stream",
          "text": [
            "    #Activations : 173.7359 [M]\n",
            "         #Conv2d : 26\n"
          ]
        }
      ],
      "source": [
        "input_dim = (3, 256, 256)  # set the input dimension\n",
        "activations, num_conv = get_model_activation(model, input_dim)\n",
        "activations = activations / 10 ** 6\n",
        "print(\"{:>16s} : {:<.4f} [M]\".format(\"#Activations\", activations))\n",
        "print(\"{:>16s} : {:<d}\".format(\"#Conv2d\", num_conv))"
      ]
    },
    {
      "cell_type": "code",
      "execution_count": 7,
      "metadata": {
        "colab": {
          "base_uri": "https://localhost:8080/"
        },
        "id": "VyVdC90koGT9",
        "outputId": "12417836-689b-4579-88aa-cadd67fecd3e"
      },
      "outputs": [
        {
          "name": "stdout",
          "output_type": "stream",
          "text": [
            "           FLOPs : 80.1813 [G]\n"
          ]
        }
      ],
      "source": [
        "flops = get_model_flops(model, input_dim, False)\n",
        "flops = flops / 10 ** 9\n",
        "print(\"{:>16s} : {:<.4f} [G]\".format(\"FLOPs\", flops))"
      ]
    },
    {
      "cell_type": "code",
      "execution_count": 8,
      "metadata": {
        "colab": {
          "base_uri": "https://localhost:8080/"
        },
        "id": "6OFYMwqSsqvp",
        "outputId": "23fe3a80-b6ad-4d1b-a830-9a5c0a46ecaf"
      },
      "outputs": [
        {
          "name": "stdout",
          "output_type": "stream",
          "text": [
            "         #Params : 0.6263 [M]\n"
          ]
        }
      ],
      "source": [
        "num_parameters = sum(map(lambda x: x.numel(), model.parameters()))\n",
        "num_parameters = num_parameters / 10 ** 6\n",
        "print(\"{:>16s} : {:<.4f} [M]\".format(\"#Params\", num_parameters))"
      ]
    },
    {
      "cell_type": "code",
      "execution_count": 8,
      "metadata": {
        "colab": {
          "base_uri": "https://localhost:8080/"
        },
        "id": "F-F9a-rUei4H",
        "outputId": "71d5bbaf-a9cd-458e-8d83-7af1e435a285"
      },
      "outputs": [
        {
          "name": "stdout",
          "output_type": "stream",
          "text": [
            "Collecting einops\n",
            "  Downloading einops-0.7.0-py3-none-any.whl (44 kB)\n",
            "\u001b[?25l     \u001b[90m━━━━━━━━━━━━━━━━━━━━━━━━━━━━━━━━━━━━━━━━\u001b[0m \u001b[32m0.0/44.6 kB\u001b[0m \u001b[31m?\u001b[0m eta \u001b[36m-:--:--\u001b[0m\r\u001b[2K     \u001b[90m━━━━━━━━━━━━━━━━━━━━━━━━━━━━━━━━━━━━━━━━\u001b[0m \u001b[32m44.6/44.6 kB\u001b[0m \u001b[31m1.8 MB/s\u001b[0m eta \u001b[36m0:00:00\u001b[0m\n",
            "\u001b[?25hInstalling collected packages: einops\n",
            "Successfully installed einops-0.7.0\n"
          ]
        }
      ],
      "source": [
        "# !pip install einops -q"
      ]
    },
    {
      "cell_type": "code",
      "execution_count": 4,
      "metadata": {
        "id": "Z-ll9RndaQ3n"
      },
      "outputs": [],
      "source": [
        "from omni.model import OmniSR"
      ]
    },
    {
      "cell_type": "code",
      "execution_count": 5,
      "metadata": {
        "colab": {
          "base_uri": "https://localhost:8080/"
        },
        "id": "i00vovaobXmG",
        "outputId": "28b6aece-0462-485d-d670-591e1ee8fbff"
      },
      "outputs": [
        {
          "name": "stdout",
          "output_type": "stream",
          "text": [
            "window_size: 8\n",
            "with_pe True\n",
            "ffn_bias: 1\n",
            "window_size: 8\n",
            "with_pe True\n",
            "ffn_bias: 1\n",
            "window_size: 8\n",
            "with_pe True\n",
            "ffn_bias: 1\n",
            "window_size: 8\n",
            "with_pe True\n",
            "ffn_bias: 1\n",
            "window_size: 8\n",
            "with_pe True\n",
            "ffn_bias: 1\n"
          ]
        },
        {
          "name": "stderr",
          "output_type": "stream",
          "text": [
            "/home/jauhar/miniconda3/envs/ml/lib/python3.10/site-packages/torch/functional.py:504: UserWarning: torch.meshgrid: in an upcoming release, it will be required to pass the indexing argument. (Triggered internally at ../aten/src/ATen/native/TensorShape.cpp:3526.)\n",
            "  return _VF.meshgrid(tensors, **kwargs)  # type: ignore[attr-defined]\n"
          ]
        }
      ],
      "source": [
        "model = OmniSR()"
      ]
    },
    {
      "cell_type": "code",
      "execution_count": 6,
      "metadata": {
        "id": "m5cMCWwMes8h"
      },
      "outputs": [
        {
          "name": "stdout",
          "output_type": "stream",
          "text": [
            "    #Activations : 3167.7966 [M]\n",
            "         #Conv2d : 453\n"
          ]
        }
      ],
      "source": [
        "input_dim = (3, 256, 256)  # set the input dimension\n",
        "activations, num_conv = get_model_activation(model, input_dim)\n",
        "activations = activations / 10 ** 6\n",
        "print(\"{:>16s} : {:<.4f} [M]\".format(\"#Activations\", activations))\n",
        "print(\"{:>16s} : {:<d}\".format(\"#Conv2d\", num_conv))"
      ]
    },
    {
      "cell_type": "code",
      "execution_count": 7,
      "metadata": {},
      "outputs": [
        {
          "name": "stdout",
          "output_type": "stream",
          "text": [
            "           FLOPs : 135.4574 [G]\n"
          ]
        }
      ],
      "source": [
        "flops = get_model_flops(model, input_dim, False)\n",
        "flops = flops / 10 ** 9\n",
        "print(\"{:>16s} : {:<.4f} [G]\".format(\"FLOPs\", flops))"
      ]
    },
    {
      "cell_type": "code",
      "execution_count": 8,
      "metadata": {},
      "outputs": [
        {
          "name": "stdout",
          "output_type": "stream",
          "text": [
            "         #Params : 2.8421 [M]\n"
          ]
        }
      ],
      "source": [
        "num_parameters = sum(map(lambda x: x.numel(), model.parameters()))\n",
        "num_parameters = num_parameters / 10 ** 6\n",
        "print(\"{:>16s} : {:<.4f} [M]\".format(\"#Params\", num_parameters))"
      ]
    },
    {
      "cell_type": "code",
      "execution_count": 4,
      "metadata": {
        "colab": {
          "base_uri": "https://localhost:8080/"
        },
        "id": "ugPCdvaTs8HQ",
        "outputId": "490650d5-e4cd-46b3-d2a5-8a0c5d642eaf"
      },
      "outputs": [],
      "source": [
        "# # Alternative Method: Facebook Fvcore\n",
        "# !git clone https://github.com/majauhar/fvcore.git\n",
        "# # !cd fvcore\n",
        "# !pip install -e fvcore"
      ]
    },
    {
      "cell_type": "code",
      "execution_count": 2,
      "metadata": {
        "id": "ENuB4quBy49O"
      },
      "outputs": [],
      "source": [
        "# !rm -r fvcore"
      ]
    },
    {
      "cell_type": "code",
      "execution_count": 13,
      "metadata": {
        "id": "xV7IpGolvBQ5"
      },
      "outputs": [],
      "source": [
        "# !pip uninstall fvcore -y"
      ]
    },
    {
      "cell_type": "code",
      "execution_count": 10,
      "metadata": {
        "colab": {
          "base_uri": "https://localhost:8080/"
        },
        "id": "HLav65Yc0D1B",
        "outputId": "5acc55c4-2698-47ec-834d-e49ce06c9af8"
      },
      "outputs": [
        {
          "name": "stdout",
          "output_type": "stream",
          "text": [
            "/content/sample_data\n"
          ]
        }
      ],
      "source": [
        "# cd sample_data"
      ]
    },
    {
      "cell_type": "code",
      "execution_count": 11,
      "metadata": {
        "id": "5z-BY1EozE7t"
      },
      "outputs": [],
      "source": [
        "# import fvcore"
      ]
    },
    {
      "cell_type": "code",
      "execution_count": 5,
      "metadata": {
        "colab": {
          "base_uri": "https://localhost:8080/",
          "height": 315
        },
        "id": "m33FayU4vEp6",
        "outputId": "d28a093b-179c-4b6a-cff0-d527ffa4381e"
      },
      "outputs": [],
      "source": [
        "# from fvcore import nn"
      ]
    },
    {
      "cell_type": "code",
      "execution_count": null,
      "metadata": {
        "id": "ScoRkLeo2G3u"
      },
      "outputs": [],
      "source": []
    },
    {
      "cell_type": "code",
      "execution_count": 9,
      "metadata": {
        "id": "8ylbKmBuvI2S"
      },
      "outputs": [],
      "source": [
        "input = torch.randn(1, 3, 256, 256)"
      ]
    },
    {
      "cell_type": "code",
      "execution_count": 10,
      "metadata": {
        "id": "bJFv2sKhwanr"
      },
      "outputs": [],
      "source": [
        "flops = FlopCountAnalysis(model, input)"
      ]
    },
    {
      "cell_type": "code",
      "execution_count": 11,
      "metadata": {
        "colab": {
          "base_uri": "https://localhost:8080/"
        },
        "id": "wWdljCSQwbgS",
        "outputId": "9b10eb56-cc4d-4158-b3b7-32aa1157dc58"
      },
      "outputs": [
        {
          "name": "stderr",
          "output_type": "stream",
          "text": [
            "Unsupported operator aten::add encountered 9 time(s)\n",
            "Unsupported operator aten::pixel_shuffle encountered 2 time(s)\n"
          ]
        },
        {
          "data": {
            "text/plain": [
              "80026075136"
            ]
          },
          "execution_count": 11,
          "metadata": {},
          "output_type": "execute_result"
        }
      ],
      "source": [
        "flops.total()"
      ]
    },
    {
      "cell_type": "code",
      "execution_count": 12,
      "metadata": {},
      "outputs": [
        {
          "data": {
            "text/plain": [
              "274.66563584"
            ]
          },
          "execution_count": 12,
          "metadata": {},
          "output_type": "execute_result"
        }
      ],
      "source": [
        "274665635840 / 1e9"
      ]
    },
    {
      "cell_type": "code",
      "execution_count": 13,
      "metadata": {},
      "outputs": [
        {
          "name": "stdout",
          "output_type": "stream",
          "text": [
            "| module                      | #parameters or shape   | #flops   |\n",
            "|:----------------------------|:-----------------------|:---------|\n",
            "| model                       | 0.626M                 | 80.026G  |\n",
            "|  sub_mean.shifter           |  12                    |  0.59M   |\n",
            "|   sub_mean.shifter.weight   |   (3, 3, 1, 1)         |          |\n",
            "|   sub_mean.shifter.bias     |   (3,)                 |          |\n",
            "|  add_mean.shifter           |  12                    |  2.359M  |\n",
            "|   add_mean.shifter.weight   |   (3, 3, 1, 1)         |          |\n",
            "|   add_mean.shifter.bias     |   (3,)                 |          |\n",
            "|  conv1.0                    |  1.728K                |  0.113G  |\n",
            "|   conv1.0.weight            |   (64, 3, 3, 3)        |          |\n",
            "|  conv2.0                    |  36.864K               |  2.416G  |\n",
            "|   conv2.0.weight            |   (64, 64, 3, 3)       |          |\n",
            "|  conv3.0                    |  4.096K                |  0.268G  |\n",
            "|   conv3.0.weight            |   (64, 64, 1, 1)       |          |\n",
            "|  conv4.0                    |  36.864K               |  2.416G  |\n",
            "|   conv4.0.weight            |   (64, 64, 3, 3)       |          |\n",
            "|  conv5.0                    |  4.096K                |  0.268G  |\n",
            "|   conv5.0.weight            |   (64, 64, 1, 1)       |          |\n",
            "|  conv6.0                    |  36.864K               |  2.416G  |\n",
            "|   conv6.0.weight            |   (64, 64, 3, 3)       |          |\n",
            "|  conv7.0                    |  4.096K                |  0.268G  |\n",
            "|   conv7.0.weight            |   (64, 64, 1, 1)       |          |\n",
            "|  conv8.0                    |  36.864K               |  2.416G  |\n",
            "|   conv8.0.weight            |   (64, 64, 3, 3)       |          |\n",
            "|  conv9.0                    |  4.096K                |  0.268G  |\n",
            "|   conv9.0.weight            |   (64, 64, 1, 1)       |          |\n",
            "|  conv10.0                   |  36.864K               |  2.416G  |\n",
            "|   conv10.0.weight           |   (64, 64, 3, 3)       |          |\n",
            "|  conv11.0                   |  4.096K                |  0.268G  |\n",
            "|   conv11.0.weight           |   (64, 64, 1, 1)       |          |\n",
            "|  conv12.0                   |  36.864K               |  2.416G  |\n",
            "|   conv12.0.weight           |   (64, 64, 3, 3)       |          |\n",
            "|  conv13.0                   |  4.096K                |  0.268G  |\n",
            "|   conv13.0.weight           |   (64, 64, 1, 1)       |          |\n",
            "|  conv14.0                   |  36.864K               |  2.416G  |\n",
            "|   conv14.0.weight           |   (64, 64, 3, 3)       |          |\n",
            "|  conv15.0                   |  4.096K                |  0.268G  |\n",
            "|   conv15.0.weight           |   (64, 64, 1, 1)       |          |\n",
            "|  conv16.0                   |  36.864K               |  2.416G  |\n",
            "|   conv16.0.weight           |   (64, 64, 3, 3)       |          |\n",
            "|  conv17.0                   |  4.096K                |  0.268G  |\n",
            "|   conv17.0.weight           |   (64, 64, 1, 1)       |          |\n",
            "|  conv17_1.0                 |  36.864K               |  9.664G  |\n",
            "|   conv17_1.0.weight         |   (64, 64, 3, 3)       |          |\n",
            "|  conv17_2.0                 |  36.864K               |  9.664G  |\n",
            "|   conv17_2.0.weight         |   (64, 64, 3, 3)       |          |\n",
            "|  conv17_3.0                 |  36.864K               |  9.664G  |\n",
            "|   conv17_3.0.weight         |   (64, 64, 3, 3)       |          |\n",
            "|  conv17_4.0                 |  36.864K               |  9.664G  |\n",
            "|   conv17_4.0.weight         |   (64, 64, 3, 3)       |          |\n",
            "|  conv18.0                   |  1.728K                |  0.453G  |\n",
            "|   conv18.0.weight           |   (3, 64, 3, 3)        |          |\n",
            "|  upsample.up.body.0         |  0.148M                |  19.327G |\n",
            "|   upsample.up.body.0.weight |   (256, 64, 3, 3)      |          |\n",
            "|   upsample.up.body.0.bias   |   (256,)               |          |\n"
          ]
        }
      ],
      "source": [
        "from fvcore.nn import flop_count_table\n",
        "print(flop_count_table(flops))"
      ]
    },
    {
      "cell_type": "code",
      "execution_count": 14,
      "metadata": {},
      "outputs": [
        {
          "name": "stdout",
          "output_type": "stream",
          "text": [
            "Net(\n",
            "  #params: 0.63M, #flops: 80.03G\n",
            "  (sub_mean): MeanShift(\n",
            "    #params: 12, #flops: 0.59M\n",
            "    (shifter): Conv2d(\n",
            "      3, 3, kernel_size=(1, 1), stride=(1, 1)\n",
            "      #params: 12, #flops: 0.59M\n",
            "    )\n",
            "  )\n",
            "  (add_mean): MeanShift(\n",
            "    #params: 12, #flops: 2.36M\n",
            "    (shifter): Conv2d(\n",
            "      3, 3, kernel_size=(1, 1), stride=(1, 1)\n",
            "      #params: 12, #flops: 2.36M\n",
            "    )\n",
            "  )\n",
            "  (conv1): Sequential(\n",
            "    #params: 1.73K, #flops: 0.11G\n",
            "    (0): Conv2d(\n",
            "      3, 64, kernel_size=(3, 3), stride=(1, 1), padding=(1, 1), bias=False\n",
            "      #params: 1.73K, #flops: 0.11G\n",
            "    )\n",
            "  )\n",
            "  (conv2): Sequential(\n",
            "    #params: 36.86K, #flops: 2.42G\n",
            "    (0): Conv2d(\n",
            "      64, 64, kernel_size=(3, 3), stride=(1, 1), padding=(1, 1), bias=False\n",
            "      #params: 36.86K, #flops: 2.42G\n",
            "    )\n",
            "    (1): ReLU(inplace=True)\n",
            "  )\n",
            "  (conv3): Sequential(\n",
            "    #params: 4.1K, #flops: 0.27G\n",
            "    (0): Conv2d(\n",
            "      64, 64, kernel_size=(1, 1), stride=(1, 1), bias=False\n",
            "      #params: 4.1K, #flops: 0.27G\n",
            "    )\n",
            "  )\n",
            "  (conv4): Sequential(\n",
            "    #params: 36.86K, #flops: 2.42G\n",
            "    (0): Conv2d(\n",
            "      64, 64, kernel_size=(3, 3), stride=(1, 1), padding=(1, 1), bias=False\n",
            "      #params: 36.86K, #flops: 2.42G\n",
            "    )\n",
            "    (1): ReLU(inplace=True)\n",
            "  )\n",
            "  (conv5): Sequential(\n",
            "    #params: 4.1K, #flops: 0.27G\n",
            "    (0): Conv2d(\n",
            "      64, 64, kernel_size=(1, 1), stride=(1, 1), bias=False\n",
            "      #params: 4.1K, #flops: 0.27G\n",
            "    )\n",
            "  )\n",
            "  (conv6): Sequential(\n",
            "    #params: 36.86K, #flops: 2.42G\n",
            "    (0): Conv2d(\n",
            "      64, 64, kernel_size=(3, 3), stride=(1, 1), padding=(1, 1), bias=False\n",
            "      #params: 36.86K, #flops: 2.42G\n",
            "    )\n",
            "    (1): ReLU(inplace=True)\n",
            "  )\n",
            "  (conv7): Sequential(\n",
            "    #params: 4.1K, #flops: 0.27G\n",
            "    (0): Conv2d(\n",
            "      64, 64, kernel_size=(1, 1), stride=(1, 1), bias=False\n",
            "      #params: 4.1K, #flops: 0.27G\n",
            "    )\n",
            "  )\n",
            "  (conv8): Sequential(\n",
            "    #params: 36.86K, #flops: 2.42G\n",
            "    (0): Conv2d(\n",
            "      64, 64, kernel_size=(3, 3), stride=(1, 1), padding=(1, 1), bias=False\n",
            "      #params: 36.86K, #flops: 2.42G\n",
            "    )\n",
            "    (1): ReLU(inplace=True)\n",
            "  )\n",
            "  (conv9): Sequential(\n",
            "    #params: 4.1K, #flops: 0.27G\n",
            "    (0): Conv2d(\n",
            "      64, 64, kernel_size=(1, 1), stride=(1, 1), bias=False\n",
            "      #params: 4.1K, #flops: 0.27G\n",
            "    )\n",
            "  )\n",
            "  (conv10): Sequential(\n",
            "    #params: 36.86K, #flops: 2.42G\n",
            "    (0): Conv2d(\n",
            "      64, 64, kernel_size=(3, 3), stride=(1, 1), padding=(1, 1), bias=False\n",
            "      #params: 36.86K, #flops: 2.42G\n",
            "    )\n",
            "    (1): ReLU(inplace=True)\n",
            "  )\n",
            "  (conv11): Sequential(\n",
            "    #params: 4.1K, #flops: 0.27G\n",
            "    (0): Conv2d(\n",
            "      64, 64, kernel_size=(1, 1), stride=(1, 1), bias=False\n",
            "      #params: 4.1K, #flops: 0.27G\n",
            "    )\n",
            "  )\n",
            "  (conv12): Sequential(\n",
            "    #params: 36.86K, #flops: 2.42G\n",
            "    (0): Conv2d(\n",
            "      64, 64, kernel_size=(3, 3), stride=(1, 1), padding=(1, 1), bias=False\n",
            "      #params: 36.86K, #flops: 2.42G\n",
            "    )\n",
            "    (1): ReLU(inplace=True)\n",
            "  )\n",
            "  (conv13): Sequential(\n",
            "    #params: 4.1K, #flops: 0.27G\n",
            "    (0): Conv2d(\n",
            "      64, 64, kernel_size=(1, 1), stride=(1, 1), bias=False\n",
            "      #params: 4.1K, #flops: 0.27G\n",
            "    )\n",
            "  )\n",
            "  (conv14): Sequential(\n",
            "    #params: 36.86K, #flops: 2.42G\n",
            "    (0): Conv2d(\n",
            "      64, 64, kernel_size=(3, 3), stride=(1, 1), padding=(1, 1), bias=False\n",
            "      #params: 36.86K, #flops: 2.42G\n",
            "    )\n",
            "    (1): ReLU(inplace=True)\n",
            "  )\n",
            "  (conv15): Sequential(\n",
            "    #params: 4.1K, #flops: 0.27G\n",
            "    (0): Conv2d(\n",
            "      64, 64, kernel_size=(1, 1), stride=(1, 1), bias=False\n",
            "      #params: 4.1K, #flops: 0.27G\n",
            "    )\n",
            "  )\n",
            "  (conv16): Sequential(\n",
            "    #params: 36.86K, #flops: 2.42G\n",
            "    (0): Conv2d(\n",
            "      64, 64, kernel_size=(3, 3), stride=(1, 1), padding=(1, 1), bias=False\n",
            "      #params: 36.86K, #flops: 2.42G\n",
            "    )\n",
            "    (1): ReLU(inplace=True)\n",
            "  )\n",
            "  (conv17): Sequential(\n",
            "    #params: 4.1K, #flops: 0.27G\n",
            "    (0): Conv2d(\n",
            "      64, 64, kernel_size=(1, 1), stride=(1, 1), bias=False\n",
            "      #params: 4.1K, #flops: 0.27G\n",
            "    )\n",
            "  )\n",
            "  (conv17_1): Sequential(\n",
            "    #params: 36.86K, #flops: 9.66G\n",
            "    (0): Conv2d(\n",
            "      64, 64, kernel_size=(3, 3), stride=(1, 1), padding=(1, 1), bias=False\n",
            "      #params: 36.86K, #flops: 9.66G\n",
            "    )\n",
            "    (1): ReLU(inplace=True)\n",
            "  )\n",
            "  (conv17_2): Sequential(\n",
            "    #params: 36.86K, #flops: 9.66G\n",
            "    (0): Conv2d(\n",
            "      64, 64, kernel_size=(3, 3), stride=(1, 1), padding=(1, 1), bias=False\n",
            "      #params: 36.86K, #flops: 9.66G\n",
            "    )\n",
            "    (1): ReLU(inplace=True)\n",
            "  )\n",
            "  (conv17_3): Sequential(\n",
            "    #params: 36.86K, #flops: 9.66G\n",
            "    (0): Conv2d(\n",
            "      64, 64, kernel_size=(3, 3), stride=(1, 1), padding=(1, 1), bias=False\n",
            "      #params: 36.86K, #flops: 9.66G\n",
            "    )\n",
            "    (1): ReLU(inplace=True)\n",
            "  )\n",
            "  (conv17_4): Sequential(\n",
            "    #params: 36.86K, #flops: 9.66G\n",
            "    (0): Conv2d(\n",
            "      64, 64, kernel_size=(3, 3), stride=(1, 1), padding=(1, 1), bias=False\n",
            "      #params: 36.86K, #flops: 9.66G\n",
            "    )\n",
            "    (1): ReLU(inplace=True)\n",
            "  )\n",
            "  (conv18): Sequential(\n",
            "    #params: 1.73K, #flops: 0.45G\n",
            "    (0): Conv2d(\n",
            "      64, 3, kernel_size=(3, 3), stride=(1, 1), padding=(1, 1), bias=False\n",
            "      #params: 1.73K, #flops: 0.45G\n",
            "    )\n",
            "  )\n",
            "  (ReLU): ReLU(inplace=True)\n",
            "  (upsample): UpsampleBlock(\n",
            "    #params: 0.15M, #flops: 19.33G\n",
            "    (up): _UpsampleBlock(\n",
            "      #params: 0.15M, #flops: 19.33G\n",
            "      (body): Sequential(\n",
            "        #params: 0.15M, #flops: 19.33G\n",
            "        (0): Conv2d(\n",
            "          64, 256, kernel_size=(3, 3), stride=(1, 1), padding=(1, 1)\n",
            "          #params: 0.15M, #flops: 19.33G\n",
            "        )\n",
            "        (1): PixelShuffle(upscale_factor=2)\n",
            "      )\n",
            "    )\n",
            "  )\n",
            ")\n"
          ]
        }
      ],
      "source": [
        "from fvcore.nn import flop_count_str\n",
        "print(flop_count_str(flops))"
      ]
    },
    {
      "cell_type": "code",
      "execution_count": null,
      "metadata": {},
      "outputs": [],
      "source": []
    }
  ],
  "metadata": {
    "colab": {
      "authorship_tag": "ABX9TyPk7Oc5AYORc0ZQ0t8jnmhT",
      "include_colab_link": true,
      "provenance": []
    },
    "kernelspec": {
      "display_name": "Python 3",
      "name": "python3"
    },
    "language_info": {
      "codemirror_mode": {
        "name": "ipython",
        "version": 3
      },
      "file_extension": ".py",
      "mimetype": "text/x-python",
      "name": "python",
      "nbconvert_exporter": "python",
      "pygments_lexer": "ipython3",
      "version": "3.10.13"
    }
  },
  "nbformat": 4,
  "nbformat_minor": 0
}
